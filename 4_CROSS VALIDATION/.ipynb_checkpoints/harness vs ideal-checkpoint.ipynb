{
 "cells": [
  {
   "cell_type": "code",
   "execution_count": 4,
   "id": "c94d4702",
   "metadata": {},
   "outputs": [],
   "source": [
    "# Correlation between ideal and harness\n",
    "from numpy import mean\n",
    "from numpy import isnan\n",
    "from numpy import asarray\n",
    "from numpy import polyfit\n",
    "from scipy.stats import pearsonr\n",
    "from matplotlib import pyplot\n",
    "from sklearn.model_selection import KFold, LeaveOneOut, cross_val_score\n",
    "from sklearn.datasets import make_classification\n",
    "from sklearn.linear_model import LogisticRegression, RidgeClassifier, SGDClassifier, PassiveAggressiveClassifier\n",
    "from sklearn.neighbors import KNeighborsClassifier\n",
    "from sklearn.tree import DecisionTreeClassifier, ExtraTreeClassifier\n",
    "from sklearn.svm import LinearSVC\n",
    "from sklearn.svm import SVC\n",
    "from sklearn.naive_bayes import GaussianNB\n",
    "from sklearn.ensemble import AdaBoostClassifier, BaggingClassifier, RandomForestClassifier, ExtraTreesClassifier, GradientBoostingClassifier\n",
    "from sklearn.gaussian_process import GaussianProcessClassifier\n",
    "from sklearn.discriminant_analysis import LinearDiscriminantAnalysis\n",
    "from sklearn.discriminant_analysis import QuadraticDiscriminantAnalysis\n"
   ]
  },
  {
   "cell_type": "code",
   "execution_count": 14,
   "id": "2f1707a5",
   "metadata": {},
   "outputs": [],
   "source": [
    "# Create the dataset\n",
    "def get_dataset(n= 100):\n",
    "    x,y = make_classification(n_samples=n, n_features=20, n_informative=15, n_redundant=5,  random_state=1)\n",
    "    return x,y"
   ]
  },
  {
   "cell_type": "code",
   "execution_count": 15,
   "id": "1fe82d30",
   "metadata": {},
   "outputs": [],
   "source": [
    "# Get the list of the models\n",
    "def get_models():\n",
    "    models = list()\n",
    "    models.append(LogisticRegression())\n",
    "    models.append(RidgeClassifier())\n",
    "    models.append(SGDClassifier())\n",
    "    models.append(PassiveAggressiveClassifier())\n",
    "    models.append(KNeighborsClassifier())\n",
    "    models.append(DecisionTreeClassifier())\n",
    "    models.append(ExtraTreeClassifier())\n",
    "    models.append(LinearSVC())\n",
    "    models.append(SVC())\n",
    "    models.append(GaussianNB())\n",
    "    models.append(AdaBoostClassifier())\n",
    "    models.append(BaggingClassifier())\n",
    "    models.append(RandomForestClassifier())\n",
    "    models.append(ExtraTreesClassifier())\n",
    "    models.append(GaussianProcessClassifier())\n",
    "    models.append(GradientBoostingClassifier())\n",
    "    models.append(LinearDiscriminantAnalysis())\n",
    "    models.append(QuadraticDiscriminantAnalysis())\n",
    "    return models"
   ]
  },
  {
   "cell_type": "code",
   "execution_count": 16,
   "id": "bab1ae3a",
   "metadata": {},
   "outputs": [],
   "source": [
    "# Evaluate the model usikng the given test condit\n",
    "def evaluate_model(cv, model):\n",
    "    # get the dataset\n",
    "    x,y = get_dataset()\n",
    "    # evaluate the model\n",
    "    scores = cross_val_score(model,x,y, scoring='accuracy', cv = cv, n_jobs=-1)\n",
    "    #return score\n",
    "    return mean(scores)"
   ]
  },
  {
   "cell_type": "code",
   "execution_count": 17,
   "id": "7774b7dc",
   "metadata": {},
   "outputs": [],
   "source": [
    "# Define the test condition\n",
    "ideal_cv = LeaveOneOut()\n",
    "cv = KFold(n_splits=10, shuffle=True, random_state = 1)"
   ]
  },
  {
   "cell_type": "code",
   "execution_count": 18,
   "id": "6a892f82",
   "metadata": {},
   "outputs": [],
   "source": [
    "# Get the list of the models to consider\n",
    "models = get_models()"
   ]
  },
  {
   "cell_type": "code",
   "execution_count": 19,
   "id": "92f687b7",
   "metadata": {},
   "outputs": [],
   "source": [
    "# Collect the results\n",
    "ideal_results, cv_results = list(), list()"
   ]
  },
  {
   "cell_type": "code",
   "execution_count": 21,
   "id": "6f97620b",
   "metadata": {},
   "outputs": [
    {
     "name": "stdout",
     "output_type": "stream",
     "text": [
      ">LogisticRegression: ideal=0.840, cv=0.850\n",
      ">RidgeClassifier: ideal=0.830, cv=0.830\n",
      ">SGDClassifier: ideal=0.810, cv=0.800\n",
      ">PassiveAggressiveClassifier: ideal=0.790, cv=0.780\n",
      ">KNeighborsClassifier: ideal=0.760, cv=0.770\n",
      ">DecisionTreeClassifier: ideal=0.700, cv=0.670\n",
      ">ExtraTreeClassifier: ideal=0.640, cv=0.580\n",
      ">LinearSVC: ideal=0.830, cv=0.820\n",
      ">SVC: ideal=0.900, cv=0.880\n",
      ">GaussianNB: ideal=0.730, cv=0.720\n",
      ">AdaBoostClassifier: ideal=0.740, cv=0.740\n",
      ">BaggingClassifier: ideal=0.700, cv=0.680\n",
      ">RandomForestClassifier: ideal=0.780, cv=0.790\n",
      ">ExtraTreesClassifier: ideal=0.830, cv=0.810\n",
      ">GaussianProcessClassifier: ideal=0.790, cv=0.760\n",
      ">GradientBoostingClassifier: ideal=0.820, cv=0.830\n",
      ">LinearDiscriminantAnalysis: ideal=0.830, cv=0.830\n",
      ">QuadraticDiscriminantAnalysis: ideal=0.740, cv=0.740\n"
     ]
    }
   ],
   "source": [
    "# Evaluate each models\n",
    "for model in models:\n",
    "    # evaluate model using each test condition\n",
    "    cv_mean = evaluate_model(cv, model)\n",
    "    ideal_mean = evaluate_model(ideal_cv, model)\n",
    "    # check for invalid results\n",
    "    if isnan(cv_mean) or isnan(ideal_mean):\n",
    "        continue\n",
    "    # store the results\n",
    "    cv_results.append(cv_mean)\n",
    "    ideal_results.append(ideal_mean)\n",
    "    # summarize the correlation between each test condition\n",
    "    print('>%s: ideal=%.3f, cv=%.3f' % (type(model).__name__, ideal_mean, cv_mean))\n"
   ]
  },
  {
   "cell_type": "code",
   "execution_count": 22,
   "id": "a0b3ca3b",
   "metadata": {},
   "outputs": [
    {
     "name": "stdout",
     "output_type": "stream",
     "text": [
      "Correlation: 0.977\n"
     ]
    }
   ],
   "source": [
    "# calculate the correlation between each test condition\n",
    "corr, _ = pearsonr(cv_results, ideal_results)\n",
    "print('Correlation: %.3f' % corr)"
   ]
  },
  {
   "cell_type": "code",
   "execution_count": 24,
   "id": "67d3cd5a",
   "metadata": {},
   "outputs": [
    {
     "data": {
      "text/plain": [
       "<matplotlib.collections.PathCollection at 0x167074e6580>"
      ]
     },
     "execution_count": 24,
     "metadata": {},
     "output_type": "execute_result"
    },
    {
     "data": {
      "image/png": "[encoded data removed]",
      "text/plain": [
       "<Figure size 432x288 with 1 Axes>"
      ]
     },
     "metadata": {
      "needs_background": "light"
     },
     "output_type": "display_data"
    }
   ],
   "source": [
    "# scatter plot of results\n",
    "pyplot.scatter(cv_results, ideal_results)"
   ]
  },
  {
   "cell_type": "code",
   "execution_count": 25,
   "id": "5932cf24",
   "metadata": {},
   "outputs": [
    {
     "data": {
      "text/plain": [
       "[<matplotlib.lines.Line2D at 0x167075e6730>]"
      ]
     },
     "execution_count": 25,
     "metadata": {},
     "output_type": "execute_result"
    },
    {
     "data": {
      "image/png": "[encoded data removed]",
      "text/plain": [
       "<Figure size 432x288 with 1 Axes>"
      ]
     },
     "metadata": {
      "needs_background": "light"
     },
     "output_type": "display_data"
    }
   ],
   "source": [
    "# plot the line of best fit\n",
    "coeff, bias = polyfit(cv_results, ideal_results, 1)\n",
    "line = coeff * asarray(cv_results) + bias\n",
    "pyplot.plot(cv_results, line, color='r')"
   ]
  },
  {
   "cell_type": "code",
   "execution_count": 26,
   "id": "3a202191",
   "metadata": {},
   "outputs": [
    {
     "data": {
      "text/plain": [
       "Text(0, 0.5, 'Mean Accuracy (LOOCV)')"
      ]
     },
     "execution_count": 26,
     "metadata": {},
     "output_type": "execute_result"
    },
    {
     "data": {
      "image/png": "[encoded data removed]",
      "text/plain": [
       "<Figure size 432x288 with 1 Axes>"
      ]
     },
     "metadata": {
      "needs_background": "light"
     },
     "output_type": "display_data"
    }
   ],
   "source": [
    "# label the plot\n",
    "pyplot.title('10-fold CV vs LOOCV Mean Accuracy')\n",
    "pyplot.xlabel('Mean Accuracy (10-fold CV)')\n",
    "pyplot.ylabel('Mean Accuracy (LOOCV)')"
   ]
  },
  {
   "cell_type": "code",
   "execution_count": null,
   "id": "0d74580d",
   "metadata": {},
   "outputs": [],
   "source": []
  }
 ],
 "metadata": {
  "kernelspec": {
   "display_name": "Python 3 (ipykernel)",
   "language": "python",
   "name": "python3"
  },
  "language_info": {
   "codemirror_mode": {
    "name": "ipython",
    "version": 3
   },
   "file_extension": ".py",
   "mimetype": "text/x-python",
   "name": "python",
   "nbconvert_exporter": "python",
   "pygments_lexer": "ipython3",
   "version": "3.9.7"
  }
 },
 "nbformat": 4,
 "nbformat_minor": 5
}
