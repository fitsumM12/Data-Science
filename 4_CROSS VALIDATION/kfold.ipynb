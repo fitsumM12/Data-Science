{
 "cells": [
  {
   "cell_type": "code",
   "execution_count": 2,
   "id": "dad099d4",
   "metadata": {},
   "outputs": [
    {
     "name": "stdout",
     "output_type": "stream",
     "text": [
      "(100, 20) (100,)\n"
     ]
    }
   ],
   "source": [
    "# Test classification dataset\n",
    "from sklearn.datasets import make_classification\n",
    "# Define the dataset\n",
    "x, y =  make_classification(n_samples=100, n_features=20,n_informative = 15, n_redundant=5, random_state=1)\n",
    "# Summarize the dataset\n",
    "print(x.shape, y.shape)"
   ]
  },
  {
   "cell_type": "code",
   "execution_count": 3,
   "id": "e2e715a4",
   "metadata": {},
   "outputs": [],
   "source": [
    "# Evaluate a logistic regression model using k-fold cross-validation\n",
    "from numpy import mean\n",
    "from numpy import std\n",
    "from sklearn.model_selection import KFold\n",
    "from sklearn.model_selection import cross_val_score\n",
    "from sklearn.linear_model import LogisticRegression"
   ]
  },
  {
   "cell_type": "code",
   "execution_count": 5,
   "id": "317cf624",
   "metadata": {},
   "outputs": [],
   "source": [
    "# Create the cross-validation procedure\n",
    "cv = KFold(n_splits=10, random_state=1, shuffle=True)"
   ]
  },
  {
   "cell_type": "code",
   "execution_count": 6,
   "id": "03726713",
   "metadata": {},
   "outputs": [],
   "source": [
    "# Create the model\n",
    "model = LogisticRegression()"
   ]
  },
  {
   "cell_type": "code",
   "execution_count": 7,
   "id": "798dc28c",
   "metadata": {},
   "outputs": [],
   "source": [
    "# Evaluate the model\n",
    "scores = cross_val_score(model, x,y, scoring=\"accuracy\", cv=cv, n_jobs=-1)"
   ]
  },
  {
   "cell_type": "code",
   "execution_count": 8,
   "id": "36fccadf",
   "metadata": {},
   "outputs": [
    {
     "name": "stdout",
     "output_type": "stream",
     "text": [
      "Accuracy: 0.850 (0.128)\n"
     ]
    }
   ],
   "source": [
    "# Report the performance\n",
    "print(\"Accuracy: %.3f (%.3f)\"%(mean(scores), std(scores)))"
   ]
  }
 ],
 "metadata": {
  "kernelspec": {
   "display_name": "Python 3 (ipykernel)",
   "language": "python",
   "name": "python3"
  },
  "language_info": {
   "codemirror_mode": {
    "name": "ipython",
    "version": 3
   },
   "file_extension": ".py",
   "mimetype": "text/x-python",
   "name": "python",
   "nbconvert_exporter": "python",
   "pygments_lexer": "ipython3",
   "version": "3.9.7"
  }
 },
 "nbformat": 4,
 "nbformat_minor": 5
}
