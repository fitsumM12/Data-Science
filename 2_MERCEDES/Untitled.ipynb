{
 "cells": [
  {
   "cell_type": "markdown",
   "id": "933f6213",
   "metadata": {},
   "source": [
    "# Exploratory Data Analysis for Mercedes Benz Car Model"
   ]
  },
  {
   "cell_type": "code",
   "execution_count": null,
   "id": "c1f9516d",
   "metadata": {},
   "outputs": [],
   "source": []
  }
 ],
 "metadata": {
  "kernelspec": {
   "display_name": "Python 3 (ipykernel)",
   "language": "python",
   "name": "python3"
  },
  "language_info": {
   "codemirror_mode": {
    "name": "ipython",
    "version": 3
   },
   "file_extension": ".py",
   "mimetype": "text/x-python",
   "name": "python",
   "nbconvert_exporter": "python",
   "pygments_lexer": "ipython3",
   "version": "3.9.7"
  }
 },
 "nbformat": 4,
 "nbformat_minor": 5
}
